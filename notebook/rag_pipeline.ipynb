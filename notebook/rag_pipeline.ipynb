# RAG pipeline notebook

# Step 1: Import modules
from src.retriever import SimpleRetriever
from src.generator import SimpleGenerator
from src.utils import format_prompt

# Step 2: Initialize retriever and generator
retriever = SimpleRetriever()
generator = SimpleGenerator()

# Step 3: Define a user query
query = "What are the symptoms of chronic kidney disease?"

# Step 4: Retrieve relevant contexts
contexts = retriever.search(query, top_k=2)
print("Retrieved Contexts:\n") 
print("\n---\n".join(contexts))

# Step 5: Generate answer
context_str = " ".join(contexts)
answer = generator.generate_answer(query, context_str)
print("\nGenerated Answer:")
print(answer)
