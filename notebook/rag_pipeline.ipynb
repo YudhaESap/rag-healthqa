{
  "nbformat": 4,
  "nbformat_minor": 0,
  "metadata": {
    "colab": {
      "provenance": []
    },
    "kernelspec": {
      "name": "python3",
      "display_name": "Python 3"
    },
    "language_info": {
      "name": "python"
    }
  },
  "cells": [
    {
      "cell_type": "code",
      "execution_count": null,
      "metadata": {
        "id": "28WdO2ZkLLe7"
      },
      "outputs": [],
      "source": [
        "# RAG pipeline notebook\n",
        "\n",
        "# Step 1: Import modules\n",
        "from src.retriever import SimpleRetriever\n",
        "from src.generator import SimpleGenerator\n",
        "from src.utils import format_prompt\n",
        "\n",
        "# Step 2: Initialize retriever and generator\n",
        "retriever = SimpleRetriever()\n",
        "generator = SimpleGenerator()\n",
        "\n",
        "# Step 3: Define a user query\n",
        "query = \"What are the symptoms of chronic kidney disease?\"\n",
        "\n",
        "# Step 4: Retrieve relevant contexts\n",
        "contexts = retriever.search(query, top_k=2)\n",
        "print(\"Retrieved Contexts:\\n\")\n",
        "print(\"\\n---\\n\".join(contexts))\n",
        "\n",
        "# Step 5: Generate answer\n",
        "context_str = \" \".join(contexts)\n",
        "answer = generator.generate_answer(query, context_str)\n",
        "print(\"\\nGenerated Answer:\")\n",
        "print(answer)"
      ]
    }
  ]
}